{
  "nbformat": 4,
  "nbformat_minor": 0,
  "metadata": {
    "colab": {
      "name": "SentimentAnalysis.ipynb",
      "provenance": [],
      "collapsed_sections": []
    },
    "kernelspec": {
      "name": "python3",
      "display_name": "Python 3"
    }
  },
  "cells": [
    {
      "cell_type": "code",
      "metadata": {
        "id": "kgW9s3yfpgQa"
      },
      "source": [
        "# importing libraries and packages to perform this text analysis\r\n",
        "import matplotlib.pyplot as plt\r\n",
        "import os\r\n",
        "import re\r\n",
        "import shutil\r\n",
        "import string\r\n",
        "import tensorflow as tf\r\n",
        "from tensorflow.keras import layers\r\n",
        "from tensorflow.keras import losses\r\n",
        "from tensorflow.keras import preprocessing\r\n",
        "from tensorflow.keras.layers.experimental.preprocessing import TextVectorization"
      ],
      "execution_count": 2,
      "outputs": []
    },
    {
      "cell_type": "code",
      "metadata": {
        "colab": {
          "base_uri": "https://localhost:8080/"
        },
        "id": "li97PEEBtHPF",
        "outputId": "e668d9f4-55fc-4b34-8757-b5bd48a5400c"
      },
      "source": [
        "# Check tensorflow version \r\n",
        "print(tf.version.VERSION)\r\n",
        "print(tf.__version__)"
      ],
      "execution_count": 3,
      "outputs": [
        {
          "output_type": "stream",
          "text": [
            "2.4.1\n",
            "2.4.1\n"
          ],
          "name": "stdout"
        }
      ]
    },
    {
      "cell_type": "code",
      "metadata": {
        "colab": {
          "base_uri": "https://localhost:8080/"
        },
        "id": "NeX1-lJ3tSb0",
        "outputId": "673509c3-307d-49b8-cacc-336d2cdfbbee"
      },
      "source": [
        "# Download IMDB dataset on disk and explore the dataset\r\n",
        "url = \"https://ai.stanford.edu/~amaas/data/sentiment/aclImdb_v1.tar.gz\"\r\n",
        "\r\n",
        "dataset = tf.keras.utils.get_file( \"aclImdb_v1.tar.gz\", url, untar = True, cache_dir='.', cache_subdir='')\r\n",
        "dataset_dir = os.path.join(os.path.dirname(dataset),'aclImdb')"
      ],
      "execution_count": 4,
      "outputs": [
        {
          "output_type": "stream",
          "text": [
            "Downloading data from https://ai.stanford.edu/~amaas/data/sentiment/aclImdb_v1.tar.gz\n",
            "84131840/84125825 [==============================] - 5s 0us/step\n"
          ],
          "name": "stdout"
        }
      ]
    },
    {
      "cell_type": "code",
      "metadata": {
        "colab": {
          "base_uri": "https://localhost:8080/"
        },
        "id": "hmN2O4kFtfhN",
        "outputId": "13a60d0c-5468-4176-e4fc-c91a673cccd0"
      },
      "source": [
        "# Check what I have in the IMDB dataset directory\r\n",
        "print(os.listdir(dataset_dir))\r\n",
        "os.listdir(dataset_dir)"
      ],
      "execution_count": 5,
      "outputs": [
        {
          "output_type": "stream",
          "text": [
            "['test', 'imdbEr.txt', 'README', 'imdb.vocab', 'train']\n"
          ],
          "name": "stdout"
        },
        {
          "output_type": "execute_result",
          "data": {
            "text/plain": [
              "['test', 'imdbEr.txt', 'README', 'imdb.vocab', 'train']"
            ]
          },
          "metadata": {
            "tags": []
          },
          "execution_count": 5
        }
      ]
    },
    {
      "cell_type": "code",
      "metadata": {
        "colab": {
          "base_uri": "https://localhost:8080/"
        },
        "id": "aYgA11f2tp7M",
        "outputId": "a570a75e-6025-4003-84e4-e01236cc7936"
      },
      "source": [
        "# Set this directory as the training dataset directory and check the file list in this directory\r\n",
        "train_dir = os.path.join(dataset_dir, 'train')\r\n",
        "os.listdir(train_dir)"
      ],
      "execution_count": 6,
      "outputs": [
        {
          "output_type": "execute_result",
          "data": {
            "text/plain": [
              "['neg',\n",
              " 'unsup',\n",
              " 'labeledBow.feat',\n",
              " 'unsupBow.feat',\n",
              " 'urls_unsup.txt',\n",
              " 'urls_neg.txt',\n",
              " 'urls_pos.txt',\n",
              " 'pos']"
            ]
          },
          "metadata": {
            "tags": []
          },
          "execution_count": 6
        }
      ]
    },
    {
      "cell_type": "code",
      "metadata": {
        "colab": {
          "base_uri": "https://localhost:8080/"
        },
        "id": "ig3SWcJivFje",
        "outputId": "51c4e9aa-d2cb-4b06-f511-cd487ff902ae"
      },
      "source": [
        "# Take a look at a text file from the directory. Read the text from the file and print this  \r\n",
        "sample_file = os.path.join(train_dir,'pos/0_9.txt')\r\n",
        "#file = open(sample_file).read()\r\n",
        "#file = open(sample_file).readline()\r\n",
        "#print(file)\r\n",
        "with open(sample_file) as f:\r\n",
        "  print(f.read())"
      ],
      "execution_count": 7,
      "outputs": [
        {
          "output_type": "stream",
          "text": [
            "Bromwell High is a cartoon comedy. It ran at the same time as some other programs about school life, such as \"Teachers\". My 35 years in the teaching profession lead me to believe that Bromwell High's satire is much closer to reality than is \"Teachers\". The scramble to survive financially, the insightful students who can see right through their pathetic teachers' pomp, the pettiness of the whole situation, all remind me of the schools I knew and their students. When I saw the episode in which a student repeatedly tried to burn down the school, I immediately recalled ......... at .......... High. A classic line: INSPECTOR: I'm here to sack one of your teachers. STUDENT: Welcome to Bromwell High. I expect that many adults of my age think that Bromwell High is far fetched. What a pity that it isn't!\n"
          ],
          "name": "stdout"
        }
      ]
    },
    {
      "cell_type": "code",
      "metadata": {
        "id": "2YBXpAWTyplY"
      },
      "source": [
        "# Remove unnecessary file from the directory\r\n",
        "remove_dir = os.path.join(train_dir, 'unsup')\r\n",
        "shutil.rmtree(remove_dir)"
      ],
      "execution_count": 8,
      "outputs": []
    },
    {
      "cell_type": "code",
      "metadata": {
        "colab": {
          "base_uri": "https://localhost:8080/"
        },
        "id": "Ow2ysENx0bDd",
        "outputId": "a17777b3-9d8f-4918-9f7a-270ad477bd10"
      },
      "source": [
        "# Running machine learning experiment to the labeled data and check if I have three types of dataset (train, validation, and test)\r\n",
        "# Here, I am creating training dataset for the model\r\n",
        "batch_size = 32\r\n",
        "seed = 42\r\n",
        "raw_train_ds = tf.keras.preprocessing.text_dataset_from_directory( 'aclImdb/train', batch_size = batch_size, validation_split = 0.2, subset ='training', seed = seed)"
      ],
      "execution_count": 9,
      "outputs": [
        {
          "output_type": "stream",
          "text": [
            "Found 25000 files belonging to 2 classes.\n",
            "Using 20000 files for training.\n"
          ],
          "name": "stdout"
        }
      ]
    },
    {
      "cell_type": "code",
      "metadata": {
        "colab": {
          "base_uri": "https://localhost:8080/"
        },
        "id": "k2f7PAJ8AYsp",
        "outputId": "c783a00d-5029-4b4d-c855-6821f9dbfdd1"
      },
      "source": [
        "# Print example to view label of the data. I get 0 and 1 as label of data.\r\n",
        "for text_batch, label_batch in raw_train_ds.take(1):\r\n",
        "  for i in range(3):\r\n",
        "    print(\"Review\",text_batch.numpy()[i])\r\n",
        "    print(\"Label\",label_batch.numpy()[i])"
      ],
      "execution_count": 10,
      "outputs": [
        {
          "output_type": "stream",
          "text": [
            "Review b'\"Pandemonium\" is a horror movie spoof that comes off more stupid than funny. Believe me when I tell you, I love comedies. Especially comedy spoofs. \"Airplane\", \"The Naked Gun\" trilogy, \"Blazing Saddles\", \"High Anxiety\", and \"Spaceballs\" are some of my favorite comedies that spoof a particular genre. \"Pandemonium\" is not up there with those films. Most of the scenes in this movie had me sitting there in stunned silence because the movie wasn\\'t all that funny. There are a few laughs in the film, but when you watch a comedy, you expect to laugh a lot more than a few times and that\\'s all this film has going for it. Geez, \"Scream\" had more laughs than this film and that was more of a horror film. How bizarre is that?<br /><br />*1/2 (out of four)'\n",
            "Label 0\n",
            "Review b\"David Mamet is a very interesting and a very un-equal director. His first movie 'House of Games' was the one I liked best, and it set a series of films with characters whose perspective of life changes as they get into complicated situations, and so does the perspective of the viewer.<br /><br />So is 'Homicide' which from the title tries to set the mind of the viewer to the usual crime drama. The principal characters are two cops, one Jewish and one Irish who deal with a racially charged area. The murder of an old Jewish shop owner who proves to be an ancient veteran of the Israeli Independence war triggers the Jewish identity in the mind and heart of the Jewish detective.<br /><br />This is were the flaws of the film are the more obvious. The process of awakening is theatrical and hard to believe, the group of Jewish militants is operatic, and the way the detective eventually walks to the final violent confrontation is pathetic. The end of the film itself is Mamet-like smart, but disappoints from a human emotional perspective.<br /><br />Joe Mantegna and William Macy give strong performances, but the flaws of the story are too evident to be easily compensated.\"\n",
            "Label 0\n",
            "Review b'Great documentary about the lives of NY firefighters during the worst terrorist attack of all time.. That reason alone is why this should be a must see collectors item.. What shocked me was not only the attacks, but the\"High Fat Diet\" and physical appearance of some of these firefighters. I think a lot of Doctors would agree with me that,in the physical shape they were in, some of these firefighters would NOT of made it to the 79th floor carrying over 60 lbs of gear. Having said that i now have a greater respect for firefighters and i realize becoming a firefighter is a life altering job. The French have a history of making great documentary\\'s and that is what this is, a Great Documentary.....'\n",
            "Label 1\n"
          ],
          "name": "stdout"
        }
      ]
    },
    {
      "cell_type": "code",
      "metadata": {
        "colab": {
          "base_uri": "https://localhost:8080/"
        },
        "id": "M5gIAS9TFBW7",
        "outputId": "7111cb4c-c646-4e81-aa33-03699deb4eb0"
      },
      "source": [
        "# Print what these labels means?\r\n",
        "print(\"Label 0 corresponds to\", raw_train_ds.class_names[0])\r\n",
        "print(\"Label 1 corresponds to\", raw_train_ds.class_names[1])"
      ],
      "execution_count": 11,
      "outputs": [
        {
          "output_type": "stream",
          "text": [
            "Label 0 corresponds to neg\n",
            "Label 0 corresponds to pos\n"
          ],
          "name": "stdout"
        }
      ]
    },
    {
      "cell_type": "code",
      "metadata": {
        "colab": {
          "base_uri": "https://localhost:8080/"
        },
        "id": "IjiPv3IyFUzY",
        "outputId": "9b5939a1-0978-4ab0-907e-27ff884fe46f"
      },
      "source": [
        "# Creat validation dataset\r\n",
        "raw_val_ds = tf.keras.preprocessing.text_dataset_from_directory('aclImdb/train', batch_size= batch_size, validation_split=0.2,subset='validation',seed=seed) "
      ],
      "execution_count": 12,
      "outputs": [
        {
          "output_type": "stream",
          "text": [
            "Found 25000 files belonging to 2 classes.\n",
            "Using 5000 files for validation.\n"
          ],
          "name": "stdout"
        }
      ]
    },
    {
      "cell_type": "code",
      "metadata": {
        "colab": {
          "base_uri": "https://localhost:8080/"
        },
        "id": "WiMGM34pG4cI",
        "outputId": "824caea8-0395-48cc-9fff-ce62be1472ad"
      },
      "source": [
        "# Create test dataset\r\n",
        "raw_test_ds = tf.keras.preprocessing.text_dataset_from_directory('aclImdb/test',batch_size=batch_size)"
      ],
      "execution_count": 34,
      "outputs": [
        {
          "output_type": "stream",
          "text": [
            "Found 25000 files belonging to 2 classes.\n"
          ],
          "name": "stdout"
        }
      ]
    },
    {
      "cell_type": "code",
      "metadata": {
        "colab": {
          "base_uri": "https://localhost:8080/"
        },
        "id": "TJkcJtFlHQf6",
        "outputId": "1203de5f-c7aa-4487-dab4-b7b73454f3e9"
      },
      "source": [
        "# Print the class of these three dataset\r\n",
        "print(raw_test_ds.class_names)\r\n",
        "print(raw_val_ds.class_names)\r\n",
        "print(raw_train_ds.class_names)"
      ],
      "execution_count": 14,
      "outputs": [
        {
          "output_type": "stream",
          "text": [
            "['neg', 'pos']\n",
            "['neg', 'pos']\n",
            "['neg', 'pos']\n"
          ],
          "name": "stdout"
        }
      ]
    },
    {
      "cell_type": "code",
      "metadata": {
        "id": "P9er7IIMILbi"
      },
      "source": [
        "# Prepare the dataset\r\n",
        "# Create a user defined function to remove HTML tag '<br />' for the dataset\r\n",
        "def custom_standerdization(input_data):\r\n",
        "  lowercase = tf.strings.lower(input_data)\r\n",
        "  stripped_html = tf.strings.regex_replace(lowercase,'<br />', ' ')\r\n",
        "  return tf.strings.regex_replace(stripped_html, '[%s]' % re.escape(string.punctuation),'')"
      ],
      "execution_count": 15,
      "outputs": []
    },
    {
      "cell_type": "code",
      "metadata": {
        "id": "w-d3aK2JPdCE"
      },
      "source": [
        "# Create a TextVectorization layer to standardize, tokenize and vectorize my dataset\r\n",
        "max_features = 10000  # maximun size of the vocabulary for this task\r\n",
        "sequence_length = 250 # pad limit\r\n",
        "\r\n",
        "vectorize_layer = TextVectorization( standardize=custom_standerdization, max_tokens= max_features, output_mode='int',output_sequence_length=sequence_length)"
      ],
      "execution_count": 16,
      "outputs": []
    },
    {
      "cell_type": "code",
      "metadata": {
        "id": "M06ougiAQ2Op"
      },
      "source": [
        "# Make a text only dataset without labels \r\n",
        "train_text = raw_train_ds.map(lambda x, y:x) # (x,y) means (Review,label)\r\n",
        "#print(train_text)\r\n",
        "# Call the adapt() function fit the state of the preprocessing layer to the dataset. This will build an index of strings to integers\r\n",
        "vectorize_layer.adapt(train_text)"
      ],
      "execution_count": 17,
      "outputs": []
    },
    {
      "cell_type": "code",
      "metadata": {
        "id": "gMd4DUrLYwR1"
      },
      "source": [
        "# Create a user defined function see the result of preprocessing stage (i.e a list of integers converted from string data)\r\n",
        "def vectorize_text(text,label):\r\n",
        "  text = tf.expand_dims(text, -1)\r\n",
        "  return vectorize_layer(text) , label"
      ],
      "execution_count": 18,
      "outputs": []
    },
    {
      "cell_type": "code",
      "metadata": {
        "colab": {
          "base_uri": "https://localhost:8080/"
        },
        "id": "6_7OB60bcR7c",
        "outputId": "1d353cf4-995f-4b54-f968-dc84f2e97ae8"
      },
      "source": [
        "# Print the converted intergers from the string data\r\n",
        "text_batch, label_batch = next(iter(raw_train_ds))\r\n",
        "first_review, first_label = text_batch[0], label_batch[0]\r\n",
        "print(\"Review\", first_review)\r\n",
        "print(\"Label\", raw_train_ds.class_names[first_label])\r\n",
        "print(\"Vectorized review\", vectorize_text(first_review,first_label))\r\n"
      ],
      "execution_count": 19,
      "outputs": [
        {
          "output_type": "stream",
          "text": [
            "Review tf.Tensor(b'Silent Night, Deadly Night 5 is the very last of the series, and like part 4, it\\'s unrelated to the first three except by title and the fact that it\\'s a Christmas-themed horror flick.<br /><br />Except to the oblivious, there\\'s some obvious things going on here...Mickey Rooney plays a toymaker named Joe Petto and his creepy son\\'s name is Pino. Ring a bell, anyone? Now, a little boy named Derek heard a knock at the door one evening, and opened it to find a present on the doorstep for him. Even though it said \"don\\'t open till Christmas\", he begins to open it anyway but is stopped by his dad, who scolds him and sends him to bed, and opens the gift himself. Inside is a little red ball that sprouts Santa arms and a head, and proceeds to kill dad. Oops, maybe he should have left well-enough alone. Of course Derek is then traumatized by the incident since he watched it from the stairs, but he doesn\\'t grow up to be some killer Santa, he just stops talking.<br /><br />There\\'s a mysterious stranger lurking around, who seems very interested in the toys that Joe Petto makes. We even see him buying a bunch when Derek\\'s mom takes him to the store to find a gift for him to bring him out of his trauma. And what exactly is this guy doing? Well, we\\'re not sure but he does seem to be taking these toys apart to see what makes them tick. He does keep his landlord from evicting him by promising him to pay him in cash the next day and presents him with a \"Larry the Larvae\" toy for his kid, but of course \"Larry\" is not a good toy and gets out of the box in the car and of course, well, things aren\\'t pretty.<br /><br />Anyway, eventually what\\'s going on with Joe Petto and Pino is of course revealed, and as with the old story, Pino is not a \"real boy\". Pino is probably even more agitated and naughty because he suffers from \"Kenitalia\" (a smooth plastic crotch) so that could account for his evil ways. And the identity of the lurking stranger is revealed too, and there\\'s even kind of a happy ending of sorts. Whee.<br /><br />A step up from part 4, but not much of one. Again, Brian Yuzna is involved, and Screaming Mad George, so some decent special effects, but not enough to make this great. A few leftovers from part 4 are hanging around too, like Clint Howard and Neith Hunter, but that doesn\\'t really make any difference. Anyway, I now have seeing the whole series out of my system. Now if I could get some of it out of my brain. 4 out of 5.', shape=(), dtype=string)\n",
            "Label neg\n",
            "Vectorized review (<tf.Tensor: shape=(1, 250), dtype=int64, numpy=\n",
            "array([[1287,  313, 2380,  313,  661,    7,    2,   52,  229,    5,    2,\n",
            "         200,    3,   38,  170,  669,   29, 5492,    6,    2,   83,  297,\n",
            "         549,   32,  410,    3,    2,  186,   12,   29,    4,    1,  191,\n",
            "         510,  549,    6,    2, 8229,  212,   46,  576,  175,  168,   20,\n",
            "           1, 5361,  290,    4,    1,  761,  969,    1,    3,   24,  935,\n",
            "        2271,  393,    7,    1, 1675,    4, 3747,  250,  148,    4,  112,\n",
            "         436,  761, 3529,  548,    4, 3633,   31,    2, 1331,   28, 2096,\n",
            "           3, 2912,    9,    6,  163,    4, 1006,   20,    2,    1,   15,\n",
            "          85,   53,  147,    9,  292,   89,  959, 2314,  984,   27,  762,\n",
            "           6,  959,    9,  564,   18,    7, 2140,   32,   24, 1254,   36,\n",
            "           1,   85,    3, 3298,   85,    6, 1410,    3, 1936,    2, 3408,\n",
            "         301,  965,    7,    4,  112,  740, 1977,   12,    1, 2014, 2772,\n",
            "           3,    4,  428,    3, 5177,    6,  512, 1254,    1,  278,   27,\n",
            "         139,   25,  308,    1,  579,    5,  259, 3529,    7,   92, 8981,\n",
            "          32,    2, 3842,  230,   27,  289,    9,   35,    2, 5712,   18,\n",
            "          27,  144, 2166,   56,    6,   26,   46,  466, 2014,   27,   40,\n",
            "        2745,  657,  212,    4, 1376, 3002, 7080,  183,   36,  180,   52,\n",
            "         920,    8,    2, 4028,   12,  969,    1,  158,   71,   53,   67,\n",
            "          85, 2754,    4,  734,   51,    1, 1611,  294,   85,    6,    2,\n",
            "        1164,    6,  163,    4, 3408,   15,   85,    6,  717,   85,   44,\n",
            "           5,   24, 7158,    3,   48,  604,    7,   11,  225,  384,   73,\n",
            "          65,   21,  242,   18,   27,  120,  295,    6,   26,  667,  129,\n",
            "        4028,  948,    6,   67,   48,  158,   93,    1]])>, <tf.Tensor: shape=(), dtype=int32, numpy=0>)\n"
          ],
          "name": "stdout"
        }
      ]
    },
    {
      "cell_type": "code",
      "metadata": {
        "colab": {
          "base_uri": "https://localhost:8080/"
        },
        "id": "0NrEORFMfPb2",
        "outputId": "f16e14b4-1595-4f82-e570-c69545a2bf12"
      },
      "source": [
        "# Check and print what integer represents which string/word.\r\n",
        "print(\"10:\", vectorize_layer.get_vocabulary()[10])\r\n",
        "print(\"344:\", vectorize_layer.get_vocabulary()[344])\r\n",
        "print(\"5188:\", vectorize_layer.get_vocabulary()[5188])\r\n",
        "print(\"6:\", vectorize_layer.get_vocabulary()[6])\r\n",
        "print(\"0:\", vectorize_layer.get_vocabulary()[0])\r\n",
        "print(\"Vocabulary size: \", len(vectorize_layer.get_vocabulary()))"
      ],
      "execution_count": 20,
      "outputs": [
        {
          "output_type": "stream",
          "text": [
            "10: i\n",
            "344: try\n",
            "5188: objective\n",
            "6: to\n",
            "0: \n",
            "Vocabulary size:  10000\n"
          ],
          "name": "stdout"
        }
      ]
    },
    {
      "cell_type": "code",
      "metadata": {
        "id": "wRO1u9YDf7o7"
      },
      "source": [
        "# Apply TextVectorization layer to the train, validation and test dataset before fed into the model\r\n",
        "train_ds = raw_train_ds.map(vectorize_text)\r\n",
        "val_ds = raw_val_ds.map(vectorize_text)\r\n",
        "test_ds = raw_test_ds.map(vectorize_text)"
      ],
      "execution_count": 21,
      "outputs": []
    },
    {
      "cell_type": "code",
      "metadata": {
        "id": "PqcI66_iihzT"
      },
      "source": [
        "# Configure dataset for performance by using cache() and prefetch()\r\n",
        "AUTOTUNE = tf.data.AUTOTUNE\r\n",
        "# The number of elements to prefetch should be equal to (or possibly greater than) the number of batches consumed by a single training step. You could either manually tune this value, or set it to tf.data.AUTOTUNE, which will prompt the tf.data runtime to tune the value dynamically at runtime.\r\n",
        "# Prefetching overlaps the preprocessing and model execution of a training step. While the model is executing training step s, the input pipeline is reading the data for step s+1. Doing so reduces the step time.\r\n",
        "# The tf.data.Dataset.cache transformation can cache a dataset, either in memory or on local storage. This will save some operations (like file opening and data reading) from being executed during each epoch.\r\n",
        "train_ds = train_ds.cache().prefetch(buffer_size = AUTOTUNE)\r\n",
        "val_ds = val_ds.cache().prefetch(buffer_size = AUTOTUNE)\r\n",
        "test_ds = test_ds.cache().prefetch(buffer_size = AUTOTUNE)"
      ],
      "execution_count": 22,
      "outputs": []
    },
    {
      "cell_type": "code",
      "metadata": {
        "id": "ng-QNju3je5c"
      },
      "source": [
        "# Create the Neural Network (model)\r\n",
        "embedding_dim = 16\r\n",
        "# input_dim: Integer. Size of the vocabulary, i.e. maximum integer index + 1.\r\n",
        "# output_dim: Integer. Dimension of the dense embedding"
      ],
      "execution_count": 23,
      "outputs": []
    },
    {
      "cell_type": "code",
      "metadata": {
        "colab": {
          "base_uri": "https://localhost:8080/"
        },
        "id": "s1wGcmXF0-Ao",
        "outputId": "4fcc315b-f068-499c-f1d9-3001862e596a"
      },
      "source": [
        "# Define and set the layer of this Neural Network. I am setting four layer for this NN. The detail is on my report.\r\n",
        "model = tf.keras.Sequential( [ \r\n",
        "                              layers.Embedding(max_features+1, embedding_dim),\r\n",
        "                              layers.Dropout(0.2),\r\n",
        "                              layers.GlobalAveragePooling1D(),\r\n",
        "                              layers.Dropout(0.2),\r\n",
        "                              layers.Dense(1)] )\r\n",
        "model.summary()"
      ],
      "execution_count": 24,
      "outputs": [
        {
          "output_type": "stream",
          "text": [
            "Model: \"sequential\"\n",
            "_________________________________________________________________\n",
            "Layer (type)                 Output Shape              Param #   \n",
            "=================================================================\n",
            "embedding (Embedding)        (None, None, 16)          160016    \n",
            "_________________________________________________________________\n",
            "dropout (Dropout)            (None, None, 16)          0         \n",
            "_________________________________________________________________\n",
            "global_average_pooling1d (Gl (None, 16)                0         \n",
            "_________________________________________________________________\n",
            "dropout_1 (Dropout)          (None, 16)                0         \n",
            "_________________________________________________________________\n",
            "dense (Dense)                (None, 1)                 17        \n",
            "=================================================================\n",
            "Total params: 160,033\n",
            "Trainable params: 160,033\n",
            "Non-trainable params: 0\n",
            "_________________________________________________________________\n"
          ],
          "name": "stdout"
        }
      ]
    },
    {
      "cell_type": "code",
      "metadata": {
        "id": "u7-wBZwo6OBQ"
      },
      "source": [
        "# Configure the model to use a loss function and an optimizer\r\n",
        "model.compile(loss=losses.BinaryCrossentropy(from_logits= True), optimizer='adam',metrics=tf.metrics.BinaryAccuracy(threshold=0.0))"
      ],
      "execution_count": 25,
      "outputs": []
    },
    {
      "cell_type": "code",
      "metadata": {
        "colab": {
          "base_uri": "https://localhost:8080/"
        },
        "id": "2Ll3dJ2H7O20",
        "outputId": "5fff4890-68bf-4e35-8249-7658f58423c9"
      },
      "source": [
        "# Train this NN model\r\n",
        "epochs = 10\r\n",
        "#Each trail to learn from the input dataset is called an epoch\r\n",
        "history = model.fit( train_ds, validation_data=val_ds,epochs=epochs)"
      ],
      "execution_count": 26,
      "outputs": [
        {
          "output_type": "stream",
          "text": [
            "Epoch 1/10\n",
            "625/625 [==============================] - 11s 17ms/step - loss: 0.6827 - binary_accuracy: 0.6093 - val_loss: 0.6146 - val_binary_accuracy: 0.7710\n",
            "Epoch 2/10\n",
            "625/625 [==============================] - 4s 6ms/step - loss: 0.5796 - binary_accuracy: 0.7829 - val_loss: 0.4978 - val_binary_accuracy: 0.8216\n",
            "Epoch 3/10\n",
            "625/625 [==============================] - 4s 6ms/step - loss: 0.4652 - binary_accuracy: 0.8345 - val_loss: 0.4197 - val_binary_accuracy: 0.8474\n",
            "Epoch 4/10\n",
            "625/625 [==============================] - 4s 6ms/step - loss: 0.3902 - binary_accuracy: 0.8592 - val_loss: 0.3736 - val_binary_accuracy: 0.8616\n",
            "Epoch 5/10\n",
            "625/625 [==============================] - 4s 6ms/step - loss: 0.3440 - binary_accuracy: 0.8741 - val_loss: 0.3447 - val_binary_accuracy: 0.8676\n",
            "Epoch 6/10\n",
            "625/625 [==============================] - 4s 6ms/step - loss: 0.3101 - binary_accuracy: 0.8873 - val_loss: 0.3259 - val_binary_accuracy: 0.8720\n",
            "Epoch 7/10\n",
            "625/625 [==============================] - 4s 6ms/step - loss: 0.2860 - binary_accuracy: 0.8963 - val_loss: 0.3127 - val_binary_accuracy: 0.8714\n",
            "Epoch 8/10\n",
            "625/625 [==============================] - 4s 6ms/step - loss: 0.2665 - binary_accuracy: 0.9021 - val_loss: 0.3031 - val_binary_accuracy: 0.8752\n",
            "Epoch 9/10\n",
            "625/625 [==============================] - 4s 6ms/step - loss: 0.2489 - binary_accuracy: 0.9091 - val_loss: 0.2967 - val_binary_accuracy: 0.8782\n",
            "Epoch 10/10\n",
            "625/625 [==============================] - 4s 6ms/step - loss: 0.2345 - binary_accuracy: 0.9156 - val_loss: 0.2919 - val_binary_accuracy: 0.8794\n"
          ],
          "name": "stdout"
        }
      ]
    },
    {
      "cell_type": "code",
      "metadata": {
        "colab": {
          "base_uri": "https://localhost:8080/"
        },
        "id": "V2JEiCUF-Co-",
        "outputId": "1fa3be7e-56b2-40f3-e1dc-de2e08496a97"
      },
      "source": [
        "# Check loss and accuracy to evaluate the performance of this model\r\n",
        "# Gradient Descent is an optimization algorithm for finding a local minimum of a differentiable function. Gradient descent is simply used to find the values of a function's parameters (coefficients) that minimize a cost function as far as possible.\r\n",
        "loss, accuracy = model.evaluate(test_ds)\r\n",
        "\r\n",
        "print(\"Loss\",loss)\r\n",
        "print(\"Accuracy\",accuracy)"
      ],
      "execution_count": 27,
      "outputs": [
        {
          "output_type": "stream",
          "text": [
            "782/782 [==============================] - 9s 12ms/step - loss: 0.3102 - binary_accuracy: 0.8735\n",
            "Loss 0.3101915419101715\n",
            "Accuracy 0.873520016670227\n"
          ],
          "name": "stdout"
        }
      ]
    },
    {
      "cell_type": "code",
      "metadata": {
        "colab": {
          "base_uri": "https://localhost:8080/"
        },
        "id": "UchXt5Sg-tWg",
        "outputId": "e1063e0d-f3ec-4287-b8bf-e74f542cbf6b"
      },
      "source": [
        "# create a plot to better understand\r\n",
        "# model.fit() returns a History object that contains a dictionary with everything that happened during training\r\n",
        "history_dict = history.history\r\n",
        "history_dict.keys()"
      ],
      "execution_count": 28,
      "outputs": [
        {
          "output_type": "execute_result",
          "data": {
            "text/plain": [
              "dict_keys(['loss', 'binary_accuracy', 'val_loss', 'val_binary_accuracy'])"
            ]
          },
          "metadata": {
            "tags": []
          },
          "execution_count": 28
        }
      ]
    },
    {
      "cell_type": "code",
      "metadata": {
        "colab": {
          "base_uri": "https://localhost:8080/",
          "height": 279
        },
        "id": "tFW_p1Tk_M73",
        "outputId": "4cf82d7f-7645-4e69-e442-07d18390df3d"
      },
      "source": [
        "# plot to visualize loss\r\n",
        "acc = history_dict['binary_accuracy']\r\n",
        "val_acc = history_dict['val_binary_accuracy']\r\n",
        "loss = history_dict['loss']\r\n",
        "val_loss = history_dict['val_loss']\r\n",
        "\r\n",
        "epochs = range(1, len(acc)+1)\r\n",
        "# \"bo\" for blue dot\r\n",
        "plt.plot(epochs, loss, 'bo', label = 'Training Loss')\r\n",
        "# \"b\" for solid bule line\r\n",
        "plt.plot(epochs, val_loss, 'b', label = 'Validation Loss')\r\n",
        "plt.xlabel(\"Ephocs\")\r\n",
        "plt.ylabel(\"Loss\")\r\n",
        "plt.legend()\r\n",
        "plt.show()"
      ],
      "execution_count": 29,
      "outputs": [
        {
          "output_type": "display_data",
          "data": {
            "image/png": "[encoded data removed]",
            "text/plain": [
              "<Figure size 432x288 with 1 Axes>"
            ]
          },
          "metadata": {
            "tags": [],
            "needs_background": "light"
          }
        }
      ]
    },
    {
      "cell_type": "code",
      "metadata": {
        "colab": {
          "base_uri": "https://localhost:8080/",
          "height": 295
        },
        "id": "fXtCJnyfBpsu",
        "outputId": "b5cd4a27-21c9-4d33-a36e-0222ec537984"
      },
      "source": [
        "# plot to visualize accuracy\r\n",
        "plt.plot(epochs, acc, 'bo', label='Training acc')\r\n",
        "plt.plot(epochs, val_acc, 'b', label='Validation acc')\r\n",
        "plt.title('Training and validation accuracy')\r\n",
        "plt.xlabel('Epochs')\r\n",
        "plt.ylabel('Accuracy')\r\n",
        "plt.legend(loc='lower right')\r\n",
        "\r\n",
        "plt.show()"
      ],
      "execution_count": 30,
      "outputs": [
        {
          "output_type": "display_data",
          "data": {
            "image/png": "[encoded data removed]",
            "text/plain": [
              "<Figure size 432x288 with 1 Axes>"
            ]
          },
          "metadata": {
            "tags": [],
            "needs_background": "light"
          }
        }
      ]
    },
    {
      "cell_type": "code",
      "metadata": {
        "colab": {
          "base_uri": "https://localhost:8080/"
        },
        "id": "T1urQmPLFX2T",
        "outputId": "7b479be6-2192-401c-a2ea-49a0c10dff0b"
      },
      "source": [
        "# In the code above, I applied the TextVectorization layer to the dataset before feeding text to the model. If I want to make my model capable of processing raw strings (for example, to simplify deploying it), I can include the TextVectorization layer inside the model. \r\n",
        "export_model = tf.keras.Sequential([\r\n",
        "  vectorize_layer,\r\n",
        "  model,\r\n",
        "  layers.Activation('sigmoid')\r\n",
        "])\r\n",
        "\r\n",
        "export_model.compile(\r\n",
        "    loss=losses.BinaryCrossentropy(from_logits=False), optimizer=\"adam\", metrics=['accuracy']\r\n",
        ")\r\n",
        "\r\n",
        "# Test it with `raw_test_ds`, which yields raw strings\r\n",
        "loss, accuracy = export_model.evaluate(raw_test_ds)\r\n",
        "print(accuracy)"
      ],
      "execution_count": 31,
      "outputs": [
        {
          "output_type": "stream",
          "text": [
            "782/782 [==============================] - 10s 12ms/step - loss: 0.3043 - accuracy: 0.8766\n",
            "0.873520016670227\n"
          ],
          "name": "stdout"
        }
      ]
    },
    {
      "cell_type": "code",
      "metadata": {
        "colab": {
          "base_uri": "https://localhost:8080/"
        },
        "id": "qNKVb7zFF8IJ",
        "outputId": "426741ec-c95e-4e3b-d03e-42f3c3951df5"
      },
      "source": [
        "# To get predictions for new examples, I simply call model.predict()\r\n",
        "new_examples = [\"Exciting movie. Super!\", \"I don't like the ending scence. Bad story.\", \"I was expecting more.\", \"Excellent movie\", \"I like this horror movie!\", \"I am sorry to say but Idont like this movie.\"]\r\n",
        "\r\n",
        "# Print vectors for new example\r\n",
        "export_model.predict(new_examples)"
      ],
      "execution_count": 33,
      "outputs": [
        {
          "output_type": "execute_result",
          "data": {
            "text/plain": [
              "array([[0.5624368 ],\n",
              "       [0.36314815],\n",
              "       [0.58180296],\n",
              "       [0.67614913],\n",
              "       [0.5000946 ],\n",
              "       [0.38121626]], dtype=float32)"
            ]
          },
          "metadata": {
            "tags": []
          },
          "execution_count": 33
        }
      ]
    },
    {
      "cell_type": "markdown",
      "metadata": {
        "id": "v53ADkAIErl6"
      },
      "source": [
        ""
      ]
    }
  ]
}